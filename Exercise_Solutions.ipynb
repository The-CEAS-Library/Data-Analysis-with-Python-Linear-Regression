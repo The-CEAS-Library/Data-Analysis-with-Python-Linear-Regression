{
  "nbformat": 4,
  "nbformat_minor": 0,
  "metadata": {
    "colab": {
      "provenance": []
    },
    "kernelspec": {
      "name": "python3",
      "display_name": "Python 3"
    },
    "language_info": {
      "name": "python"
    }
  },
  "cells": [
    {
      "cell_type": "code",
      "source": [
        "!wget https://raw.githubusercontent.com/The-CEAS-Library/Data-Analysis-with-Python-Linear-Regression/main/auto.csv"
      ],
      "metadata": {
        "id": "HQ6D3VKbzv3y"
      },
      "execution_count": null,
      "outputs": []
    },
    {
      "cell_type": "code",
      "source": [
        "import pandas as pd\n",
        "import numpy as np\n",
        "\n",
        "automobile = pd.read_csv('auto.csv')\n",
        "\n",
        "# Replace any missing values with NaNs\n",
        "automobile.replace('?', np.nan, inplace = True)\n",
        "\n",
        "# Drop the NaNs, reset the index and drop the unnecessary columns\n",
        "auto_df = automobile.dropna().reset_index().drop(['index','symboling'],axis=1)\n",
        "\n",
        "# Change the datatype of a column as per the requirement\n",
        "auto_df[['price','horsepower']] = auto_df[['price','horsepower']].astype(dtype = 'float64')"
      ],
      "metadata": {
        "id": "kYrcrTnuz6-j"
      },
      "execution_count": null,
      "outputs": []
    },
    {
      "cell_type": "markdown",
      "source": [
        "###**Exercise 1**\n",
        "\n",
        "* Establish a relationship between the **'curb weight'** (independent variable) and the **'city mpg'** (dependent variable) of the automobile.\n",
        "  * Use simple linear regression.\n",
        "  * Evaluate the performance of the model by calculating the R$^2$  value, the  mean squared error between the actual and predicted values from the respective model.\n",
        "  * Plot the best-fit line.\n"
      ],
      "metadata": {
        "id": "A4ugD8D25RJM"
      }
    },
    {
      "cell_type": "code",
      "execution_count": null,
      "metadata": {
        "id": "acHtVAx85OeB"
      },
      "outputs": [],
      "source": [
        "import numpy as np\n",
        "import pandas as pd\n",
        "import matplotlib.pyplot as plt\n",
        "from sklearn.linear_model import LinearRegression\n",
        "from sklearn.metrics import mean_squared_error, r2_score\n",
        "from sklearn.model_selection import train_test_split\n",
        "\n",
        "\n",
        "X = np.array(auto_df['curb weight']).reshape(-1,1)\n",
        "y = auto_df['city mpg']\n",
        "\n",
        "\n",
        "X_train, X_test, y_train, y_test = train_test_split(X, y, test_size = 0.2, random_state = 42)\n",
        "\n",
        "# Train the model\n",
        "model = LinearRegression().fit(X_train, y_train)\n",
        "\n",
        "# Print intercept and slope:\n",
        "print(\"Intercept: \", model.intercept_)\n",
        "print(\"Slope: \", model.coef_)\n",
        "\n",
        "# Predicting the values\n",
        "y_pred = model.predict(X_test)\n",
        "\n",
        "# Evaluating the model\n",
        "\n",
        "print('Mean Squared Error:', mean_squared_error(y_test, y_pred))\n",
        "print('R2 Value:', r2_score(y_test, y_pred))\n",
        "\n",
        "# Visualizing the training Test Results\n",
        "plt.scatter(X_train, y_train, color= 'red')\n",
        "plt.plot(X_test, y_pred, color = 'blue')\n",
        "plt.title('Curb Weight vs City MPG ')\n",
        "plt.ylabel('city mpg')\n",
        "plt.xlabel('curb weight')\n",
        "plt.show()\n",
        "\n"
      ]
    },
    {
      "cell_type": "markdown",
      "source": [
        "###**Exercise 2**\n",
        "\n",
        "* Create a linear regression model to predict the **'city mpg'** of an automobile using multiple features: **curb weight**, **engine size**, **horsepower**.\n",
        "  * Use multiple linear regression to train the model\n",
        "  * Evaluate the model by printing the error metrics, R$^2$  value\n",
        "  * Predict the **'city mpg'** for a given set of following test values:<br>\n",
        "    * **curb weight** : 3500\n",
        "    * **engine size** : 180\n",
        "    * **horsepower** : 160\n"
      ],
      "metadata": {
        "id": "bTGW5TGwzMgC"
      }
    },
    {
      "cell_type": "code",
      "source": [
        "import numpy as np\n",
        "import pandas as pd\n",
        "import matplotlib.pyplot as plt\n",
        "from sklearn.linear_model import LinearRegression\n",
        "from sklearn.metrics import mean_squared_error, r2_score\n",
        "from sklearn.model_selection import train_test_split\n",
        "\n",
        "\n",
        "X = np.array(auto_df[['curb weight','engine size','horsepower']]).reshape(-1,3)\n",
        "y = auto_df['city mpg']\n",
        "\n",
        "\n",
        "X_train, X_test, y_train, y_test = train_test_split(X, y, test_size = 0.2, random_state = 42)\n",
        "\n",
        "# Train the model\n",
        "model = LinearRegression().fit(X_train, y_train)\n",
        "\n",
        "# Print intercept and slope:\n",
        "print(\"Intercept: \", model.intercept_)\n",
        "print(\"Slope: \", model.coef_)\n",
        "\n",
        "# Predicting the values\n",
        "y_pred = model.predict(X_test)\n",
        "\n",
        "# Evaluating the model\n",
        "\n",
        "print('Mean Squared Error:', mean_squared_error(y_test, y_pred))\n",
        "print('R2 Value:', r2_score(y_test, y_pred))\n",
        "\n",
        "test_values = [3500, 180, 160]\n",
        "\n",
        "# Mulit-linear regression equation\n",
        "\n",
        "city_mpg = model.coef_[0] * test_values[0] + model.coef_[1] * test_values[1] + model.coef_[2] * test_values[2] + model.intercept_\n",
        "\n",
        "print('City mileage for the test values: ', city_mpg)"
      ],
      "metadata": {
        "id": "r35HCin8zSYj"
      },
      "execution_count": null,
      "outputs": []
    }
  ]
}